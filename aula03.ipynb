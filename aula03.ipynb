{
 "cells": [
  {
   "cell_type": "code",
   "execution_count": 3,
   "id": "96451d6d",
   "metadata": {},
   "outputs": [
    {
     "name": "stdout",
     "output_type": "stream",
     "text": [
      "Hello World!\n"
     ]
    }
   ],
   "source": [
    "print (\"Hello World!\")"
   ]
  },
  {
   "cell_type": "code",
   "execution_count": 6,
   "id": "026b3def",
   "metadata": {},
   "outputs": [
    {
     "data": {
      "text/plain": [
       "True"
      ]
     },
     "execution_count": 6,
     "metadata": {},
     "output_type": "execute_result"
    }
   ],
   "source": [
    "True\n"
   ]
  },
  {
   "cell_type": "code",
   "execution_count": 9,
   "id": "64c42389",
   "metadata": {},
   "outputs": [
    {
     "data": {
      "text/plain": [
       "False"
      ]
     },
     "execution_count": 9,
     "metadata": {},
     "output_type": "execute_result"
    }
   ],
   "source": [
    "False\n"
   ]
  },
  {
   "cell_type": "markdown",
   "id": "09b512f4",
   "metadata": {},
   "source": [
    "# TIPOS DE DADOS "
   ]
  },
  {
   "cell_type": "markdown",
   "id": "7b443a9f",
   "metadata": {},
   "source": [
    "### Strings"
   ]
  },
  {
   "cell_type": "code",
   "execution_count": 11,
   "id": "3321fcf5",
   "metadata": {},
   "outputs": [
    {
     "data": {
      "text/plain": [
       "'esse e um texto do tipo string com aspas trplhas duplas'"
      ]
     },
     "execution_count": 11,
     "metadata": {},
     "output_type": "execute_result"
    }
   ],
   "source": [
    "'esse e um texto do tipo string de aspas simples'\n",
    "\"esse e um texto do tipo string de aspas duplas\"\n",
    "'''esse e um texto do tipo string com aspas triplas simles'''\n",
    "\"\"\"esse e um texto do tipo string com aspas trplhas duplas\"\"\"\n"
   ]
  },
  {
   "cell_type": "markdown",
   "id": "095cd884",
   "metadata": {},
   "source": [
    "### CASOS ESPECIAIS DAS STRINGS"
   ]
  },
  {
   "cell_type": "markdown",
   "id": "9c7dc979",
   "metadata": {},
   "source": [
    " ESCAPE CHARACTER\n",
    " "
   ]
  },
  {
   "cell_type": "code",
   "execution_count": 16,
   "id": "f1cdf107",
   "metadata": {},
   "outputs": [
    {
     "data": {
      "text/plain": [
       "'\"don´t look at me'"
      ]
     },
     "execution_count": 16,
     "metadata": {},
     "output_type": "execute_result"
    }
   ],
   "source": [
    "\"\\\"don´t look at me\" #invisible(invisivel) character"
   ]
  },
  {
   "cell_type": "code",
   "execution_count": 18,
   "id": "a0861e24",
   "metadata": {},
   "outputs": [
    {
     "name": "stdout",
     "output_type": "stream",
     "text": [
      "\"dont´t look at me\"\n"
     ]
    }
   ],
   "source": [
    "print (\"\\\"dont´t look at me\\\"\")"
   ]
  },
  {
   "cell_type": "code",
   "execution_count": 23,
   "id": "bf61e7f4",
   "metadata": {},
   "outputs": [
    {
     "name": "stdout",
     "output_type": "stream",
     "text": [
      "ola mundo.\n",
      "Meu nome é Raquel.\n",
      "ola mundo. Meu nome é Raquel.\n",
      "ola mundo.\tMeu nome é Raquel.\n"
     ]
    }
   ],
   "source": [
    "print (\"ola mundo.\\nMeu nome é Raquel.\")\n",
    "print (\"ola mundo. Meu nome é Raquel.\")\n",
    "print (\"ola mundo.\\tMeu nome é Raquel.\")"
   ]
  },
  {
   "cell_type": "markdown",
   "id": "302b56db",
   "metadata": {},
   "source": [
    "## DESAFIO 1:em duas linhas imprima boas vindas ao usuario."
   ]
  },
  {
   "cell_type": "code",
   "execution_count": 32,
   "id": "c9627d82",
   "metadata": {},
   "outputs": [
    {
     "name": "stdout",
     "output_type": "stream",
     "text": [
      "digite seu nome e sua idade:raquel 16\n",
      "Olá raquel.\n",
      "sua idade é 16.\n"
     ]
    }
   ],
   "source": [
    "dados=input (\"digite seu nome e sua idade:\"). split()\n",
    "print (f\"Olá {dados[0]}.\\nsua idade é {dados[1]}.\")\n"
   ]
  },
  {
   "cell_type": "code",
   "execution_count": 36,
   "id": "a12218c9",
   "metadata": {},
   "outputs": [
    {
     "name": "stdout",
     "output_type": "stream",
     "text": [
      "digite seu nome e sua idade:raquel bitar\n",
      "Olá raquel.\n",
      "sua idade é bitar.\n",
      "digite seu nome e a sua idade : raquel bitar\n",
      "Olá raquel.\n",
      "sua idade é bitar .\n"
     ]
    }
   ],
   "source": [
    "##solucao 1\n",
    "dados=input (\"digite seu nome e sua idade:\"). split()\n",
    "print (f\"Olá {dados[0]}.\\nsua idade é {dados[1]}.\")\n",
    "\n",
    "dados= input (\"digite seu nome e a sua idade : \").split()\n",
    "print (\"Olá {}.\\nsua idade é {} .\".format(dados[0], dados[1]))\n",
    "\n"
   ]
  },
  {
   "cell_type": "code",
   "execution_count": 38,
   "id": "771a7aff",
   "metadata": {},
   "outputs": [],
   "source": [
    "#solucao 2\n",
    "frutas=[\"toranja\", \"bergamota\", \"figo\"]\n",
    " \n",
    "nome, idade= input (\"Digite seu nome e sua idade:\").split()"
   ]
  },
  {
   "cell_type": "markdown",
   "id": "67f6b507",
   "metadata": {},
   "source": [
    "###  SPLIT\n"
   ]
  },
  {
   "cell_type": "code",
   "execution_count": 44,
   "id": "3de9c8a8",
   "metadata": {},
   "outputs": [
    {
     "data": {
      "text/plain": [
       "['nome', ' idade', ' cpf', ' email']"
      ]
     },
     "execution_count": 44,
     "metadata": {},
     "output_type": "execute_result"
    }
   ],
   "source": [
    "\"nome, idade, cpf, email\". split (\",\")"
   ]
  },
  {
   "cell_type": "markdown",
   "id": "6f0c22c9",
   "metadata": {},
   "source": [
    "### MANIPULANDO STRING/TEXTO"
   ]
  },
  {
   "cell_type": "code",
   "execution_count": 45,
   "id": "389fc23c",
   "metadata": {},
   "outputs": [
    {
     "name": "stdout",
     "output_type": "stream",
     "text": [
      "COD,NOME,SIGLA\n",
      "35,São Paulo, SP\n",
      "41,Paraná, PR\n",
      "42,Santa Catarina, SC\n",
      "43,Rio Grande do Sul, RS\n",
      "50,Mato Grosso do Sul, MS\n",
      "11,Rondônia, RO\n",
      "12,Acre, AC\n",
      "13,Amazonas, AM\n",
      "14,Roraima, RR\n",
      "15,Pará, PA\n",
      "16,Amapá, AP\n",
      "17,Tocantins, TO\n",
      "21,Maranhão, MA\n",
      "24,Rio Grande do Norte, RN\n",
      "25,Paraíba, PB\n",
      "26,Pernambuco, PE\n",
      "27,Alagoas, AL\n",
      "28,Sergipe, SE\n",
      "29,Bahia, BA\n",
      "31,Minas Gerais, MG\n",
      "33,Rio de Janeiro, RJ\n",
      "51,Mato Grosso, MT\n",
      "52,Goiás, GO\n",
      "53,Distrito Federal, DF\n",
      "22,Piauí, PI\n",
      "23,Ceará, CE\n",
      "32,Espírito Santo, ES\n",
      "\n"
     ]
    }
   ],
   "source": [
    "estados = \"\"\"COD,NOME,SIGLA\n",
    "35,São Paulo, SP\n",
    "41,Paraná, PR\n",
    "42,Santa Catarina, SC\n",
    "43,Rio Grande do Sul, RS\n",
    "50,Mato Grosso do Sul, MS\n",
    "11,Rondônia, RO\n",
    "12,Acre, AC\n",
    "13,Amazonas, AM\n",
    "14,Roraima, RR\n",
    "15,Pará, PA\n",
    "16,Amapá, AP\n",
    "17,Tocantins, TO\n",
    "21,Maranhão, MA\n",
    "24,Rio Grande do Norte, RN\n",
    "25,Paraíba, PB\n",
    "26,Pernambuco, PE\n",
    "27,Alagoas, AL\n",
    "28,Sergipe, SE\n",
    "29,Bahia, BA\n",
    "31,Minas Gerais, MG\n",
    "33,Rio de Janeiro, RJ\n",
    "51,Mato Grosso, MT\n",
    "52,Goiás, GO\n",
    "53,Distrito Federal, DF\n",
    "22,Piauí, PI\n",
    "23,Ceará, CE\n",
    "32,Espírito Santo, ES\n",
    "\"\"\"\n",
    "print(estados)"
   ]
  },
  {
   "cell_type": "code",
   "execution_count": 47,
   "id": "5ca683c6",
   "metadata": {},
   "outputs": [
    {
     "data": {
      "text/plain": [
       "['COD,NOME,SIGLA',\n",
       " '35,São',\n",
       " 'Paulo,',\n",
       " 'SP',\n",
       " '41,Paraná,',\n",
       " 'PR',\n",
       " '42,Santa',\n",
       " 'Catarina,',\n",
       " 'SC',\n",
       " '43,Rio',\n",
       " 'Grande',\n",
       " 'do',\n",
       " 'Sul,',\n",
       " 'RS',\n",
       " '50,Mato',\n",
       " 'Grosso',\n",
       " 'do',\n",
       " 'Sul,',\n",
       " 'MS',\n",
       " '11,Rondônia,',\n",
       " 'RO',\n",
       " '12,Acre,',\n",
       " 'AC',\n",
       " '13,Amazonas,',\n",
       " 'AM',\n",
       " '14,Roraima,',\n",
       " 'RR',\n",
       " '15,Pará,',\n",
       " 'PA',\n",
       " '16,Amapá,',\n",
       " 'AP',\n",
       " '17,Tocantins,',\n",
       " 'TO',\n",
       " '21,Maranhão,',\n",
       " 'MA',\n",
       " '24,Rio',\n",
       " 'Grande',\n",
       " 'do',\n",
       " 'Norte,',\n",
       " 'RN',\n",
       " '25,Paraíba,',\n",
       " 'PB',\n",
       " '26,Pernambuco,',\n",
       " 'PE',\n",
       " '27,Alagoas,',\n",
       " 'AL',\n",
       " '28,Sergipe,',\n",
       " 'SE',\n",
       " '29,Bahia,',\n",
       " 'BA',\n",
       " '31,Minas',\n",
       " 'Gerais,',\n",
       " 'MG',\n",
       " '33,Rio',\n",
       " 'de',\n",
       " 'Janeiro,',\n",
       " 'RJ',\n",
       " '51,Mato',\n",
       " 'Grosso,',\n",
       " 'MT',\n",
       " '52,Goiás,',\n",
       " 'GO',\n",
       " '53,Distrito',\n",
       " 'Federal,',\n",
       " 'DF',\n",
       " '22,Piauí,',\n",
       " 'PI',\n",
       " '23,Ceará,',\n",
       " 'CE',\n",
       " '32,Espírito',\n",
       " 'Santo,',\n",
       " 'ES']"
      ]
     },
     "execution_count": 47,
     "metadata": {},
     "output_type": "execute_result"
    }
   ],
   "source": [
    "estados.split()"
   ]
  },
  {
   "cell_type": "code",
   "execution_count": 49,
   "id": "1f9de17b",
   "metadata": {},
   "outputs": [
    {
     "data": {
      "text/plain": [
       "['COD,NOME,SIGLA',\n",
       " '35,São Paulo, SP',\n",
       " '41,Paraná, PR',\n",
       " '42,Santa Catarina, SC',\n",
       " '43,Rio Grande do Sul, RS',\n",
       " '50,Mato Grosso do Sul, MS',\n",
       " '11,Rondônia, RO',\n",
       " '12,Acre, AC',\n",
       " '13,Amazonas, AM',\n",
       " '14,Roraima, RR',\n",
       " '15,Pará, PA',\n",
       " '16,Amapá, AP',\n",
       " '17,Tocantins, TO',\n",
       " '21,Maranhão, MA',\n",
       " '24,Rio Grande do Norte, RN',\n",
       " '25,Paraíba, PB',\n",
       " '26,Pernambuco, PE',\n",
       " '27,Alagoas, AL',\n",
       " '28,Sergipe, SE',\n",
       " '29,Bahia, BA',\n",
       " '31,Minas Gerais, MG',\n",
       " '33,Rio de Janeiro, RJ',\n",
       " '51,Mato Grosso, MT',\n",
       " '52,Goiás, GO',\n",
       " '53,Distrito Federal, DF',\n",
       " '22,Piauí, PI',\n",
       " '23,Ceará, CE',\n",
       " '32,Espírito Santo, ES',\n",
       " '']"
      ]
     },
     "execution_count": 49,
     "metadata": {},
     "output_type": "execute_result"
    }
   ],
   "source": [
    "estados.split(\"\\n\")\n",
    "\n"
   ]
  },
  {
   "cell_type": "code",
   "execution_count": 50,
   "id": "dee2b3c8",
   "metadata": {},
   "outputs": [],
   "source": [
    "alunos = alunos = [\n",
    "    \"pablo\",\n",
    "    \"nicolas a.\",\n",
    "    \"raquel\",\n",
    "    \"patrick\",\n",
    "    \"lucas\",\n",
    "    \"rafael\",\n",
    "    \"rodolpho\",\n",
    "    \"natali\",\n",
    "    \"victor\",\n",
    "    \"thiago\",\n",
    "    \"roberval\",\n",
    "    \"vinicius\",\n",
    "    \"marcos\",\n",
    "    \"rodrigo\",\n",
    "    \"renan\",\n",
    "    \"nicolas f.\",\n",
    "    \"thalith\",\n",
    "    \"watuse\",\n",
    "    \"victoria\"\n",
    "]\n",
    "\n"
   ]
  },
  {
   "cell_type": "code",
   "execution_count": 5,
   "id": "ccd4a654",
   "metadata": {},
   "outputs": [],
   "source": [
    "# # del alunos  (2)\n",
    "# # alunos\n",
    "# # alunos.pop(1)"
   ]
  },
  {
   "cell_type": "markdown",
   "id": "3dba6e7d",
   "metadata": {},
   "source": [
    "### OUTROS TIPOS  DE STRING/TEXTO"
   ]
  },
  {
   "cell_type": "code",
   "execution_count": null,
   "id": "bdfb497b",
   "metadata": {},
   "outputs": [],
   "source": [
    "r \"raw string\" #texto seco, cru,literal "
   ]
  },
  {
   "cell_type": "code",
   "execution_count": null,
   "id": "96dca4e5",
   "metadata": {},
   "outputs": [],
   "source": []
  },
  {
   "cell_type": "markdown",
   "id": "3775ef85",
   "metadata": {},
   "source": [
    "### LISTA-Mutáveis\n"
   ]
  },
  {
   "cell_type": "markdown",
   "id": "6d489b50",
   "metadata": {},
   "source": [
    "#### DESAFIO 02"
   ]
  },
  {
   "cell_type": "code",
   "execution_count": 2,
   "id": "e7d427f1",
   "metadata": {},
   "outputs": [
    {
     "name": "stdout",
     "output_type": "stream",
     "text": [
      "Digite seu nome e sobrenome: raquel biatr\n",
      "as iniciais do seu nome sao: r b\n",
      "rb\n",
      "rb\n"
     ]
    }
   ],
   "source": [
    "nome, sobrenome =  input(\"Digite seu nome e sobrenome: \").split()\n",
    "print(f\"as iniciais do seu nome sao: {nome[0]} {sobrenome[0]}\")\n",
    "print (nome[0] + sobrenome[0])\n",
    "print (nome[0] + sobrenome[0], sep=\".\")"
   ]
  },
  {
   "cell_type": "markdown",
   "id": "345cdf22",
   "metadata": {},
   "source": [
    "# FUNÇOES"
   ]
  },
  {
   "cell_type": "markdown",
   "id": "4d51e865",
   "metadata": {},
   "source": [
    "### CRIANDO FUNÇÕES PRÓPIAS"
   ]
  },
  {
   "cell_type": "code",
   "execution_count": 6,
   "id": "8bc32818",
   "metadata": {},
   "outputs": [],
   "source": [
    "#criação de funções \n",
    "\n",
    "def minha_funcao():\n",
    "    ... # pass\n",
    "\n",
    "#chamada de função \n",
    "minha_funcao()"
   ]
  },
  {
   "cell_type": "code",
   "execution_count": 9,
   "id": "27468ea9",
   "metadata": {},
   "outputs": [
    {
     "data": {
      "text/plain": [
       "'olátalvez'"
      ]
     },
     "execution_count": 9,
     "metadata": {},
     "output_type": "execute_result"
    }
   ],
   "source": [
    "#parâmetro\n",
    "def func2(parametro1, parametro2):\n",
    "    return (parametro1 + parametro2)\n",
    "    \n",
    "func2(\"olá\", \"talvez\")\n"
   ]
  },
  {
   "cell_type": "code",
   "execution_count": null,
   "id": "6130d09b",
   "metadata": {},
   "outputs": [],
   "source": []
  }
 ],
 "metadata": {
  "kernelspec": {
   "display_name": "Python 3 (ipykernel)",
   "language": "python",
   "name": "python3"
  },
  "language_info": {
   "codemirror_mode": {
    "name": "ipython",
    "version": 3
   },
   "file_extension": ".py",
   "mimetype": "text/x-python",
   "name": "python",
   "nbconvert_exporter": "python",
   "pygments_lexer": "ipython3",
   "version": "3.9.6"
  }
 },
 "nbformat": 4,
 "nbformat_minor": 5
}
