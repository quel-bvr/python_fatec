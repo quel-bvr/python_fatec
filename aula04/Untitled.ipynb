{
 "cells": [
  {
   "cell_type": "markdown",
   "id": "61726b7f",
   "metadata": {},
   "source": [
    "# COISAS IMPORTANTES\n"
   ]
  },
  {
   "cell_type": "code",
   "execution_count": 2,
   "id": "53516eed",
   "metadata": {},
   "outputs": [
    {
     "ename": "IndentationError",
     "evalue": "unindent does not match any outer indentation level (<tokenize>, line 21)",
     "output_type": "error",
     "traceback": [
      "\u001b[1;36m  File \u001b[1;32m\"<tokenize>\"\u001b[1;36m, line \u001b[1;32m21\u001b[0m\n\u001b[1;33m    *3 contudo, adicione espaco entre variaveis e valore, e entre valores e valores\u001b[0m\n\u001b[1;37m    ^\u001b[0m\n\u001b[1;31mIndentationError\u001b[0m\u001b[1;31m:\u001b[0m unindent does not match any outer indentation level\n"
     ]
    }
   ],
   "source": [
    "O código deve ser rigorosamente seguido.\n",
    "\n",
    "e.g\n",
    "\n",
    "*1 respeite as indentacoes (espacos)\n",
    "\n",
    "NAO FAZER ISSO:)\n",
    "\n",
    "eu bola gosto bater mim portao \n",
    "int main (){\n",
    "    sdkjasrhtj;\n",
    "         fhejetky;\n",
    "\n",
    "*2 nao adicione espacos nas funcoes e e nos objetos \n",
    "    correto:\n",
    "    print(1)\n",
    "    \n",
    "    errado print (1)\n",
    "    print ( 1 )\n",
    "    \n",
    " *3 contudo, adicione espaco entre variaveis e valore, e entre valores e valores\n",
    "    \n",
    "correto: \n",
    "variavel = 4\n",
    "3 + 3 \n",
    "    \n",
    "errado:\n",
    "variavel=4\n",
    "3+3"
   ]
  },
  {
   "cell_type": "markdown",
   "id": "38a25d14",
   "metadata": {},
   "source": [
    "# DRY\n"
   ]
  },
  {
   "cell_type": "code",
   "execution_count": 10,
   "id": "1f59c9c7",
   "metadata": {},
   "outputs": [
    {
     "ename": "IndentationError",
     "evalue": "unexpected indent (Temp/ipykernel_5320/3108812124.py, line 12)",
     "output_type": "error",
     "traceback": [
      "\u001b[1;36m  File \u001b[1;32m\"C:\\Users\\FATECS~1\\AppData\\Local\\Temp/ipykernel_5320/3108812124.py\"\u001b[1;36m, line \u001b[1;32m12\u001b[0m\n\u001b[1;33m    opcao = input (\">>>\")\u001b[0m\n\u001b[1;37m    ^\u001b[0m\n\u001b[1;31mIndentationError\u001b[0m\u001b[1;31m:\u001b[0m unexpected indent\n"
     ]
    }
   ],
   "source": [
    "# do not repeat yourself (evite repeticoes)\n",
    "\n",
    "print(\"ola estranho seja bem vindo\")\n",
    "print(\"selecione as opcoes abaixo:\")\n",
    "\n",
    "print(\"[1] - cafe\")\n",
    "print(\"[2] - Capuucino \")\n",
    "print(\"[3] - machiato\")\n",
    "print(\"[4] - espresso\")\n",
    "print(\"[5] - Chá \")\n",
    "\n",
    " opcao = input (\">>>\") \n",
    "    \n",
    "    \n",
    "\n"
   ]
  },
  {
   "cell_type": "markdown",
   "id": "5be96766",
   "metadata": {},
   "source": [
    "# LAÇO DE REPETIÇAO"
   ]
  },
  {
   "cell_type": "code",
   "execution_count": 13,
   "id": "69d1a2ed",
   "metadata": {},
   "outputs": [
    {
     "name": "stdout",
     "output_type": "stream",
     "text": [
      "=^^=\n",
      "=^^=\n",
      "=^^=\n",
      "=^^=\n",
      "=^^=\n",
      "=^^=\n"
     ]
    }
   ],
   "source": [
    "# jeito cavalo\n",
    "print (\"=^^=\")\n",
    "print (\"=^^=\")\n",
    "print (\"=^^=\")\n",
    "print (\"=^^=\")\n",
    "print (\"=^^=\")\n",
    "print (\"=^^=\")\n"
   ]
  },
  {
   "cell_type": "markdown",
   "id": "a87a0d8b",
   "metadata": {},
   "source": [
    "# ESTRUTURA DE REPETICAO FOR\n",
    "\n",
    " ***for***  *variavel* *ITERADOR*"
   ]
  },
  {
   "cell_type": "markdown",
   "id": "bdd80198",
   "metadata": {},
   "source": [
    " O **for** trauzido para o portugues fica:\n",
    "\"**para cada elemento** (for) **dentro do** *ITERADOR* salve \n",
    "temporariamente o valor contido no *ITERADOR*  na variavel da 'variavel'\"\n",
    "\n",
    "\"executer o codigo abaixo mesmo mesmo tanto de vezes que o tamanho do ITERAVEL\""
   ]
  },
  {
   "cell_type": "code",
   "execution_count": 20,
   "id": "b3b1485a",
   "metadata": {},
   "outputs": [],
   "source": [
    "# ITERAVEIS\n",
    "lista  = [1, \"texto\", []] #listas aceitam quaisquer objetos que o python suporta \n",
    "textos = \"O rato roeu a roupa do rei de roma\"\n",
    "tuplas = (1, \"texto\", []) #tuplas aceitam quaisquer objetos que o python suporta \n",
    "dicionario_de_uma_linha = {\n",
    "    \n",
    "    \"chave\": \"valor\",\n",
    "    \"dog\": \"cachorro\"\n",
    "\n",
    "}\n",
    "\n",
    "alcance_escopo = range (10)\n"
   ]
  },
  {
   "cell_type": "markdown",
   "id": "7842345b",
   "metadata": {},
   "source": [
    "# TRABALHANDO OS DADOS \n",
    "\n",
    "* listas\n",
    "* textos (string)\n",
    "* tuplas\n",
    "* dicionario\n",
    "* range\n"
   ]
  },
  {
   "cell_type": "code",
   "execution_count": 6,
   "id": "8594bff8",
   "metadata": {},
   "outputs": [
    {
     "ename": "NameError",
     "evalue": "name 'tamanho_minimo' is not defined",
     "output_type": "error",
     "traceback": [
      "\u001b[1;31m---------------------------------------------------------------------------\u001b[0m",
      "\u001b[1;31mNameError\u001b[0m                                 Traceback (most recent call last)",
      "\u001b[1;32mC:\\Users\\FATECS~1\\AppData\\Local\\Temp/ipykernel_19500/2188620961.py\u001b[0m in \u001b[0;36m<module>\u001b[1;34m\u001b[0m\n\u001b[0;32m      2\u001b[0m \u001b[0mcompras\u001b[0m \u001b[1;33m=\u001b[0m \u001b[1;33m[\u001b[0m\u001b[1;34m\"arroz\"\u001b[0m\u001b[1;33m,\u001b[0m \u001b[1;34m\"picanha\"\u001b[0m\u001b[1;33m,\u001b[0m \u001b[1;34m\"azeitona\"\u001b[0m\u001b[1;33m,\u001b[0m \u001b[1;34m\"chocolate\"\u001b[0m\u001b[1;33m,\u001b[0m \u001b[1;34m\"feijao\"\u001b[0m\u001b[1;33m,\u001b[0m \u001b[1;34m\"batata\"\u001b[0m\u001b[1;33m,\u001b[0m \u001b[1;34m\"sushi\"\u001b[0m\u001b[1;33m,\u001b[0m \u001b[1;34m\"papel higienico\"\u001b[0m\u001b[1;33m,\u001b[0m\u001b[1;34m\"pastta de dente\"\u001b[0m\u001b[1;33m,\u001b[0m \u001b[1;34m\"vinho\"\u001b[0m\u001b[1;33m,\u001b[0m \u001b[1;34m\"salgadinho\"\u001b[0m\u001b[1;33m,\u001b[0m \u001b[1;34m\"carne moida\"\u001b[0m\u001b[1;33m,\u001b[0m \u001b[1;34m\"leite\"\u001b[0m\u001b[1;33m]\u001b[0m\u001b[1;33m\u001b[0m\u001b[1;33m\u001b[0m\u001b[0m\n\u001b[0;32m      3\u001b[0m \u001b[1;32mfor\u001b[0m \u001b[0mitem\u001b[0m \u001b[1;32min\u001b[0m \u001b[0mcompras\u001b[0m \u001b[1;33m:\u001b[0m\u001b[1;33m\u001b[0m\u001b[1;33m\u001b[0m\u001b[0m\n\u001b[1;32m----> 4\u001b[1;33m     \u001b[1;32mif\u001b[0m \u001b[0mlen\u001b[0m\u001b[1;33m(\u001b[0m\u001b[0mitem\u001b[0m\u001b[1;33m)\u001b[0m \u001b[1;33m<\u001b[0m \u001b[0mtamanho_minimo\u001b[0m\u001b[1;33m:\u001b[0m\u001b[1;33m\u001b[0m\u001b[1;33m\u001b[0m\u001b[0m\n\u001b[0m\u001b[0;32m      5\u001b[0m          \u001b[1;32mpass\u001b[0m\u001b[1;33m\u001b[0m\u001b[1;33m\u001b[0m\u001b[0m\n\u001b[0;32m      6\u001b[0m     \u001b[1;32melse\u001b[0m\u001b[1;33m:\u001b[0m\u001b[1;33m\u001b[0m\u001b[1;33m\u001b[0m\u001b[0m\n",
      "\u001b[1;31mNameError\u001b[0m: name 'tamanho_minimo' is not defined"
     ]
    }
   ],
   "source": [
    "#trabalhando com listas\n",
    "compras = [\"arroz\", \"picanha\", \"azeitona\", \"chocolate\", \"feijao\", \"batata\", \"sushi\", \"papel higienico\",\"pastta de dente\", \"vinho\", \"salgadinho\", \"carne moida\", \"leite\"]\n",
    "for item in compras :\n",
    "    if len(item) < tamanho_minimo:\n",
    "         pass\n",
    "    else:\n",
    "        print (item)"
   ]
  },
  {
   "cell_type": "markdown",
   "id": "439a6e37",
   "metadata": {},
   "source": [
    "# DESAFIO 1: Par, Impar\n",
    "\n",
    "#range (51)\n",
    "\n"
   ]
  },
  {
   "cell_type": "code",
   "execution_count": 5,
   "id": "52dc4d99",
   "metadata": {},
   "outputs": [
    {
     "ename": "IndentationError",
     "evalue": "unindent does not match any outer indentation level (<tokenize>, line 3)",
     "output_type": "error",
     "traceback": [
      "\u001b[1;36m  File \u001b[1;32m\"<tokenize>\"\u001b[1;36m, line \u001b[1;32m3\u001b[0m\n\u001b[1;33m    if(num%2)  == 0 :\u001b[0m\n\u001b[1;37m    ^\u001b[0m\n\u001b[1;31mIndentationError\u001b[0m\u001b[1;31m:\u001b[0m unindent does not match any outer indentation level\n"
     ]
    }
   ],
   "source": [
    "for numero in range (0,51):\n",
    "          pass\n",
    "    if(num%2)  == 0 :\n",
    "        print ('par')\n",
    "    else:\n",
    "        print ('impar')\n",
    "    "
   ]
  },
  {
   "cell_type": "markdown",
   "id": "ccb1a50b",
   "metadata": {},
   "source": [
    "# criando um menu \n"
   ]
  },
  {
   "cell_type": "code",
   "execution_count": 12,
   "id": "468670b4",
   "metadata": {},
   "outputs": [
    {
     "name": "stdout",
     "output_type": "stream",
     "text": [
      "[1] - cha\n",
      "[2] - chocolate quente\n",
      "[3] - espresso\n",
      "[4] - capuccino\n",
      "[5] - pingado\n"
     ]
    }
   ],
   "source": [
    "#  Menu de um restaurante\n",
    "\n",
    "opcoes = [\"cha\", \"chocolate quente\", \"espresso\", \"capuccino\", \"pingado\"]\n",
    "\n",
    "for posicao, opcao in enumerate (opcoes):\n",
    "    print (f\"[{posicao + 1}] - {opcao}\")"
   ]
  },
  {
   "cell_type": "code",
   "execution_count": null,
   "id": "dab93c83",
   "metadata": {},
   "outputs": [],
   "source": []
  }
 ],
 "metadata": {
  "kernelspec": {
   "display_name": "Python 3 (ipykernel)",
   "language": "python",
   "name": "python3"
  },
  "language_info": {
   "codemirror_mode": {
    "name": "ipython",
    "version": 3
   },
   "file_extension": ".py",
   "mimetype": "text/x-python",
   "name": "python",
   "nbconvert_exporter": "python",
   "pygments_lexer": "ipython3",
   "version": "3.9.7"
  }
 },
 "nbformat": 4,
 "nbformat_minor": 5
}
